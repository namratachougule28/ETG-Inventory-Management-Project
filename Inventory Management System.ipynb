{
 "cells": [
  {
   "cell_type": "markdown",
   "id": "ae6172ad",
   "metadata": {},
   "source": [
    "#  Inventory Management System"
   ]
  },
  {
   "cell_type": "code",
   "execution_count": 1,
   "id": "3e217f02",
   "metadata": {},
   "outputs": [],
   "source": [
    "import json"
   ]
  },
  {
   "cell_type": "code",
   "execution_count": 2,
   "id": "56e73734",
   "metadata": {},
   "outputs": [],
   "source": [
    "fd = open(\"record.json\",'r')\n",
    "r = fd.read()\n",
    "fd.close()\n",
    "\n",
    "record = json.loads(r)"
   ]
  },
  {
   "cell_type": "code",
   "execution_count": 3,
   "id": "0fb8fe20",
   "metadata": {},
   "outputs": [
    {
     "data": {
      "text/plain": [
       "{'1001': {'Name': 'Choco Cake', 'Price': 100, 'Qnt': 33, 'Organic': 'Yes'},\n",
       " '1002': {'Name': 'Milk Cake', 'Price': 800, 'Qnt': 93, 'Organic': 'Yes'},\n",
       " '1003': {'Name': 'Drink', 'Price': 85, 'Qnt': 99, 'Organic': 'Yes'},\n",
       " '1004': {'Name': 'Candy', 'Price': 5, 'Qnt': 998, 'Organic': 'Yes'},\n",
       " '1005': {'Name': 'Pen', 'Price': 20, 'Qnt': 99, 'Organic': 'No'},\n",
       " '1006': {'Name': 'Phone', 'Price': 5000, 'Qnt': 7, 'Organic': 'No'},\n",
       " '1007': {'Name': 'Mic', 'Price': 1500, 'Qnt': 0, 'Organic': 'No'},\n",
       " '1008': {'Name': 'Case', 'Price': 599, 'Qnt': 4, 'Organic': 'No'},\n",
       " '1009': {'Name': 'Cadbury', 'Price': 50, 'Qnt': 50, 'Organic': 'No'},\n",
       " '1010': {'Name': 'Watch', 'Price': 40, 'Qnt': 55, 'Organic': 'No'},\n",
       " '1011': {'Name': 'Clothes', 'Price': 699, 'Qnt': 55, 'Organic': 'No'},\n",
       " '1012': {'Name': 'Books', 'Price': 460, 'Qnt': 25, 'Organic': 'Yes'},\n",
       " '1013': {'Name': 'Stationary', 'Price': 70, 'Qnt': 119, 'Organic': 'no'},\n",
       " '1014': {'Name': 'Body Lotion', 'Price': 45, 'Qnt': 20, 'Organic': 'Yes'},\n",
       " '1015': {'Name': 'Utensils', 'Price': 700, 'Qnt': 25, 'Organic': 'No'},\n",
       " '1016': {'Name': 'Jwellery', 'Price': 1500, 'Qnt': 397, 'Organic': 'no'},\n",
       " '1017': {'Name': 'Show Piece', 'Price': 2000, 'Qnt': 6, 'Organic': 'Yes'},\n",
       " '1018': {'Name': 'TV', 'Price': 40000, 'Qnt': 4, 'Organic': 'No'},\n",
       " '1019': {'Name': 'Oven', 'Price': 35000, 'Qnt': 8, 'Organic': 'No'},\n",
       " '1020': {'Name': 'Hair Oil', 'Price': 80, 'Qnt': 50, 'Organic': 'Yes'},\n",
       " '1022': {'Name': 'Sunscreen Lotion',\n",
       "  'Price': 65,\n",
       "  'Qnt': 19,\n",
       "  'Organic': 'yes'},\n",
       " '1023': {'Name': 'Mirror', 'Price': 425, 'Qnt': 14, 'Organic': 'No'},\n",
       " '1024': {'Name': 'Chips', 'Price': 25, 'Qnt': 53, 'Organic': 'Yes'},\n",
       " '1025': {'Name': 'Coffee Mug', 'Price': 200, 'Qnt': 32, 'Organic': 'No'},\n",
       " '1026': {'Name': 'Apron', 'Price': 125, 'Qnt': 14, 'Organic': 'yes'},\n",
       " '1027': {'Name': 'Door Mat', 'Price': 1199, 'Qnt': 20, 'Organic': 'yes'},\n",
       " '1028': {'Name': 'Blanket', 'Price': 2249, 'Qnt': 5, 'Organic': 'Yes'},\n",
       " '1030': {'Name': 'Calculator', 'Price': 625, 'Qnt': 10, 'Organic': 'No'},\n",
       " '1031': {'Name': 'Video game', 'Price': 5000, 'Qnt': 4, 'Organic': 'No'},\n",
       " '1032': {'Name': 'Cushion', 'Price': 1749, 'Qnt': 40, 'Organic': 'No'},\n",
       " '1033': {'Name': 'Charger', 'Price': 65, 'Qnt': 4, 'Organic': 'No'}}"
      ]
     },
     "execution_count": 3,
     "metadata": {},
     "output_type": "execute_result"
    }
   ],
   "source": [
    "record"
   ]
  },
  {
   "cell_type": "markdown",
   "id": "340f2d61",
   "metadata": {},
   "source": [
    "##  Adding Product to the list"
   ]
  },
  {
   "cell_type": "code",
   "execution_count": 4,
   "id": "240590a9",
   "metadata": {},
   "outputs": [],
   "source": [
    "fd = open(\"record.json\",'r')\n",
    "r = fd.read()\n",
    "fd.close()\n",
    "\n",
    "record = json.loads(r)"
   ]
  },
  {
   "cell_type": "code",
   "execution_count": 10,
   "id": "9c288c5b",
   "metadata": {},
   "outputs": [
    {
     "name": "stdout",
     "output_type": "stream",
     "text": [
      "Do you want to enter items in the list?\n",
      "Enter choice: Yes or No\n",
      "yes\n",
      "Enter Product Id:1034\n",
      "Enter name: Umbrella\n",
      "Enter Qnt:45\n",
      "Enter the price: 350\n",
      "Is the product Organic\n",
      "No\n",
      "Product added to the List\n",
      "Do you want to enter items in the list?\n",
      "Enter choice: Yes or No\n",
      "yes\n",
      "Enter Product Id:1026\n",
      "Product already exists!!\n",
      "Product is:  Apron\n",
      "Enter Qnt:34\n",
      "Product Details Updated\n",
      "Do you want to enter items in the list?\n",
      "Enter choice: Yes or No\n",
      "yes\n",
      "Enter Product Id:1035\n",
      "Enter name: Sofa\n",
      "Enter Qnt:20\n",
      "Enter the price: 45000\n",
      "Is the product Organic\n",
      "No\n",
      "Product added to the List\n",
      "Do you want to enter items in the list?\n",
      "Enter choice: Yes or No\n",
      "no\n"
     ]
    }
   ],
   "source": [
    "default = True\n",
    "while(True):\n",
    "    print(\"Do you want to enter items in the list?\")\n",
    "    print(\"Enter choice: Yes or No\")\n",
    "    choice = str(input())\n",
    "    if(choice == 'yes'):\n",
    "        prod_id = str(input(\"Enter Product Id:\"))\n",
    "        if(prod_id in record.keys()):\n",
    "            print(\"Product already exists!!\")\n",
    "            print(\"Product is: \", record[prod_id]['Name'])\n",
    "            qn = int(input(\"Enter Qnt:\"))\n",
    "            qn += record[prod_id]['Qnt']\n",
    "            record[prod_id] = {'Name': record[prod_id]['Name'], 'Price': record[prod_id]['Price'], 'Qnt': qn,'Organic': record[prod_id]['Organic']}\n",
    "            print(\"Product Details Updated\")\n",
    "        else:\n",
    "            name = str(input(\"Enter name: \"))\n",
    "            qn = int(input(\"Enter Qnt:\"))\n",
    "            pr = int(input(\"Enter the price: \"))\n",
    "            print(\"Is the product Organic\")\n",
    "            org = str(input())\n",
    "            record[prod_id] = {'Name': name, 'Price': pr, 'Qnt': qn,'Organic': org}\n",
    "            print(\"Product added to the List\")\n",
    "\n",
    "        js = json.dumps(record)\n",
    "\n",
    "        fd = open(\"record.json\",'w')\n",
    "        fd.write(js)\n",
    "        fd.close()\n",
    "    else:\n",
    "        default = False\n",
    "        break"
   ]
  },
  {
   "cell_type": "markdown",
   "id": "e936d003",
   "metadata": {},
   "source": [
    "## Purchasing Product"
   ]
  },
  {
   "cell_type": "code",
   "execution_count": 11,
   "id": "5c821db0",
   "metadata": {},
   "outputs": [],
   "source": [
    "fd = open(\"record.json\",'r')\n",
    "r = fd.read()\n",
    "fd.close()\n",
    "\n",
    "record = json.loads(r)"
   ]
  },
  {
   "cell_type": "code",
   "execution_count": 16,
   "id": "5075d0a6",
   "metadata": {},
   "outputs": [],
   "source": [
    "# print(len(sale))\n",
    "fb = open(\"sales.json\",'r')\n",
    "p = fb.read()\n",
    "fb.close()\n",
    "\n",
    "sales = json.loads(p)"
   ]
  },
  {
   "cell_type": "code",
   "execution_count": 18,
   "id": "7b4489f9",
   "metadata": {
    "scrolled": true
   },
   "outputs": [
    {
     "name": "stdout",
     "output_type": "stream",
     "text": [
      "Do you want to Purchase products?\n",
      "Enter choice: Yes or No\n",
      "yes\n",
      "Enter the product_Id: 1025\n",
      "Enter the quantity: 2\n",
      "Product:  Coffee Mug\n",
      "Price:  200\n",
      "Billing Amount:  400\n",
      "......Thank You for Purchasing. Visit again.......\n",
      "Do you want to Purchase products?\n",
      "Enter choice: Yes or No\n",
      "yes\n",
      "Enter the product_Id: 1030\n",
      "Enter the quantity: 5\n",
      "Product:  Calculator\n",
      "Price:  625\n",
      "Billing Amount:  3125\n",
      "......Thank You for Purchasing. Visit again.......\n",
      "Do you want to Purchase products?\n",
      "Enter choice: Yes or No\n",
      "yes\n",
      "Enter the product_Id: 1023\n",
      "Enter the quantity: 5\n",
      "Product:  Mirror\n",
      "Price:  425\n",
      "Billing Amount:  2125\n",
      "......Thank You for Purchasing. Visit again.......\n",
      "Do you want to Purchase products?\n",
      "Enter choice: Yes or No\n",
      "no\n"
     ]
    }
   ],
   "source": [
    "import time\n",
    "faul = True\n",
    "#print(len(sales))\n",
    "transaction_id = len(sales)\n",
    "while(faul):\n",
    "    print(\"Do you want to Purchase products?\")\n",
    "    print(\"Enter choice: Yes or No\")\n",
    "    choice = str(input())\n",
    "    if(choice == 'yes'):\n",
    "        prod_id  = str(input(\"Enter the product_Id: \"))\n",
    "        if prod_id not in record.keys():\n",
    "            print(\"Sorry this product is not in store\")\n",
    "        else:\n",
    "            t = time.ctime()\n",
    "            prod_qnt = int(input(\"Enter the quantity: \"))\n",
    "\n",
    "            if prod_qnt > record[prod_id]['Qnt']:\n",
    "                print(\"OOPS! we only have: \", record[prod_id]['Qnt'])\n",
    "                print(\"Would you like to buy \", record[prod_id]['Qnt'],\"of\", record[prod_id]['Name'])\n",
    "                print(\"If 'Yes' enter 1\")\n",
    "                print(\"if 'No' enter 0\")\n",
    "                choice = int(input())\n",
    "                if choice == 1:\n",
    "                    prod_qnt = record[prod_id]['Qnt']\n",
    "                    print(\"Product: \", record[prod_id]['Name'])\n",
    "                    print(\"Price: \", record[prod_id]['Price'])\n",
    "                    print(\"Billing Amount: \", record[prod_id]['Price'] * prod_qnt)\n",
    "                    record[prod_id]['Qnt'] = record[prod_id]['Qnt'] - prod_qnt\n",
    "                    \n",
    "                    js = json.dumps(record)\n",
    "                    fd = open(\"record.json\",'w')\n",
    "                    fd.write(js)\n",
    "                    fd.close()\n",
    "\n",
    "                    sales[transaction_id] = {'Prod' : prod-id,'Name': name,'Price': record[prod_id]['Price'], 'Qnt' : prod_qnt, 'amount': record[prod_id]['Price'] * prod_qnt,'Time': t}\n",
    "                    transaction_id += 1\n",
    "                    sale = json.dumps(sales)\n",
    "\n",
    "                    fd = open(\"sales.json\",'w')\n",
    "                    fd.write(sale)\n",
    "                    fd.close()\n",
    "                else:\n",
    "                    print(\".......Visit again.......\")\n",
    "\n",
    "            else:\n",
    "                print(\"Product: \", record[prod_id]['Name'])\n",
    "                print(\"Price: \", record[prod_id]['Price'])\n",
    "                print(\"Billing Amount: \", record[prod_id]['Price'] * prod_qnt)\n",
    "                record[prod_id]['Qnt'] = record[prod_id]['Qnt'] - prod_qnt\n",
    "                print(\"......Thank You for Purchasing. Visit again.......\")\n",
    "\n",
    "                # import json\n",
    "                js = json.dumps(record)\n",
    "                fd = open(\"record.json\",'w')\n",
    "                fd.write(js)\n",
    "                fd.close()\n",
    "\n",
    "                #print(js)\n",
    "                sales[transaction_id] = {'Prod' : prod_id,'Name': record[prod_id]['Name'],'Price': record[prod_id]['Price'], 'Qnt' : prod_qnt, 'amount': record[prod_id]['Price'] * prod_qnt,'Time': t}\n",
    "                transaction_id += 1\n",
    "                sale = json.dumps(sales)\n",
    "\n",
    "                # print(sales)\n",
    "                fd = open(\"sales.json\",'w')\n",
    "                fd.write(sale)\n",
    "                fd.close()\n",
    "                \n",
    "    else:\n",
    "         break"
   ]
  },
  {
   "cell_type": "code",
   "execution_count": 19,
   "id": "12c4573b",
   "metadata": {},
   "outputs": [],
   "source": [
    "fd = open(\"sales.json\",'r')\n",
    "r = fd.read()\n",
    "fd.close()\n",
    "\n",
    "s = json.loads(r)"
   ]
  },
  {
   "cell_type": "code",
   "execution_count": 20,
   "id": "efab410f",
   "metadata": {},
   "outputs": [
    {
     "data": {
      "text/plain": [
       "{'0': {'Prod': '1019',\n",
       "  'Name': 'Oven',\n",
       "  'Price': 35000,\n",
       "  'Qnt': 1,\n",
       "  'amount': 35000,\n",
       "  'Time': 'Mon Sep  6 13:32:43 2021'},\n",
       " '1': {'Prod': '1016',\n",
       "  'Name': 'Jwellery',\n",
       "  'Price': 1500,\n",
       "  'Qnt': 1,\n",
       "  'amount': 1500,\n",
       "  'Time': 'Mon Sep  6 13:33:24 2021'},\n",
       " '2': {'Prod': '1016',\n",
       "  'Name': 'Jwellery',\n",
       "  'Price': 1500,\n",
       "  'Qnt': 1,\n",
       "  'amount': 1500,\n",
       "  'Time': 'Mon Sep  6 13:35:24 2021'},\n",
       " '3': {'Prod': '1024',\n",
       "  'Name': 'Chips',\n",
       "  'Price': 25,\n",
       "  'Qnt': 1,\n",
       "  'amount': 25,\n",
       "  'Time': 'Mon Sep  6 13:35:29 2021'},\n",
       " '4': {'Prod': '1025',\n",
       "  'Name': 'Coffee Mug',\n",
       "  'Price': 200,\n",
       "  'Qnt': 2,\n",
       "  'amount': 400,\n",
       "  'Time': 'Mon Sep  6 20:07:29 2021'},\n",
       " '5': {'Prod': '1030',\n",
       "  'Name': 'Calculator',\n",
       "  'Price': 625,\n",
       "  'Qnt': 5,\n",
       "  'amount': 3125,\n",
       "  'Time': 'Mon Sep  6 20:08:12 2021'},\n",
       " '6': {'Prod': '1023',\n",
       "  'Name': 'Mirror',\n",
       "  'Price': 425,\n",
       "  'Qnt': 5,\n",
       "  'amount': 2125,\n",
       "  'Time': 'Mon Sep  6 20:08:25 2021'}}"
      ]
     },
     "execution_count": 20,
     "metadata": {},
     "output_type": "execute_result"
    }
   ],
   "source": [
    "s"
   ]
  },
  {
   "cell_type": "markdown",
   "id": "9b142f56",
   "metadata": {},
   "source": [
    "# Billing of Product"
   ]
  },
  {
   "cell_type": "code",
   "execution_count": 21,
   "id": "232a1cf7",
   "metadata": {},
   "outputs": [
    {
     "name": "stdout",
     "output_type": "stream",
     "text": [
      "Enter Transaction Id: 5\n",
      "Your Bill is : \n",
      "\n",
      "*********** Welcome ****************\n",
      "\n",
      "Time of purchase:  Mon Sep  6 20:08:12 2021\n",
      "Product name:      Calculator\n",
      "Quantity:          5\n",
      "Price:             625\n",
      "Total Amount:      3125\n",
      "\n",
      "\n",
      "\n",
      "....... Thank you for Purchasing .......\n",
      "************* Visit Again **************\n"
     ]
    }
   ],
   "source": [
    "transaction_id = str(input(\"Enter Transaction Id: \"))\n",
    "print(\"Your Bill is : \\n\")\n",
    "print(\"*********** Welcome ****************\\n\")\n",
    "print(\"Time of purchase: \",s[transaction_id]['Time'])\n",
    "print(\"Product name:     \", s[transaction_id]['Name'])\n",
    "print(\"Quantity:         \", s[transaction_id]['Qnt'])\n",
    "print(\"Price:            \",s[transaction_id]['Price'])\n",
    "print(\"Total Amount:     \",s[transaction_id]['amount'])\n",
    "print(\"\\n\\n\")\n",
    "print(\"....... Thank you for Purchasing .......\")\n",
    "print(\"************* Visit Again **************\")"
   ]
  },
  {
   "cell_type": "code",
   "execution_count": null,
   "id": "9458fc2c",
   "metadata": {},
   "outputs": [],
   "source": []
  },
  {
   "cell_type": "code",
   "execution_count": null,
   "id": "7b013011",
   "metadata": {},
   "outputs": [],
   "source": []
  }
 ],
 "metadata": {
  "kernelspec": {
   "display_name": "Python 3",
   "language": "python",
   "name": "python3"
  },
  "language_info": {
   "codemirror_mode": {
    "name": "ipython",
    "version": 3
   },
   "file_extension": ".py",
   "mimetype": "text/x-python",
   "name": "python",
   "nbconvert_exporter": "python",
   "pygments_lexer": "ipython3",
   "version": "3.8.8"
  }
 },
 "nbformat": 4,
 "nbformat_minor": 5
}
